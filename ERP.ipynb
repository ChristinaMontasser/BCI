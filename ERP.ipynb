{
  "cells": [
    {
      "cell_type": "code",
      "execution_count": null,
      "metadata": {
        "id": "Vezy5HRTvDp5"
      },
      "outputs": [],
      "source": [
        "import math\n",
        "import numpy as np"
      ]
    },
    {
      "cell_type": "code",
      "execution_count": null,
      "metadata": {
        "id": "RIsei9qTvIou"
      },
      "outputs": [],
      "source": [
        "def generate_data(a_range, f_range, sample= 50, fs=100, maximun_time=1, phi=0):\n",
        "    a = np.random.randint(a_range[0], a_range[1], 3)\n",
        "    ti= np.arange(0, maximun_time, 1/fs)\n",
        "    f = np.random.randint(f_range[0], f_range[1], 3)\n",
        "    signal_class = np.zeros(len(ti))\n",
        "    for i in range(len(f)):\n",
        "        signal_class += [a[i]*math.sin(math.radians((2*180*f[i]*t_i + phi))) for t_i in ti]\n",
        "\n",
        "    signal_class= [signal_class]\n",
        "    for j in range(sample-1):\n",
        "        a = np.random.randint(a_range[0], a_range[1], 3)\n",
        "        f = np.random.randint(f_range[0], f_range[1], 3)\n",
        "        signal_appended= np.zeros(len(ti))\n",
        "        for i in range(len(f)):\n",
        "            signal_appended += [a[i]*math.sin(math.radians((2*180*f[i]*t_i + phi))) for t_i in ti]\n",
        "        signal_class = np.append(signal_class, [signal_appended], axis=0)\n",
        "    return signal_class\n"
      ]
    },
    {
      "cell_type": "code",
      "execution_count": null,
      "metadata": {
        "id": "01YEghTevBcu"
      },
      "outputs": [],
      "source": [
        "class ERP:\n",
        "    def __init__(self, signal_time_length, baselineTime = 0.5):\n",
        "        #baselineTime is a precentage from the signal that describes baseline correction \n",
        "        self.baselineTime = baselineTime\n",
        "        self.signal_time_length = signal_time_length\n",
        "\n",
        "    def baseLine(self, signal):\n",
        "        self.baseline = int(signal.shape[1]*((self.baselineTime)/(self.signal_time_length)))\n",
        "        mean = np.mean(signal[:self.baseline], axis=1)\n",
        "        signal = signal.T-mean\n",
        "        return signal\n",
        "\n",
        "    def analyse(self, signal):\n",
        "        #Sampling rate or time, any of them is nessacry \n",
        "        self.signal = signal\n",
        "        self.erp = []\n",
        "        for i in range(len(signal)):\n",
        "            self.signal[i] =self.baseLine(self.signal[i])\n",
        "            self.erp.append(np.mean(self.signal[i][self.baseline:].T, axis=0))\n",
        "        return self.erp\n",
        "\n"
      ]
    },
    {
      "cell_type": "code",
      "execution_count": null,
      "metadata": {
        "id": "e3xUiAXivZM0"
      },
      "outputs": [],
      "source": [
        "class_1 = generate_data(a_range= [0, 10], f_range= [10, 50], sample= 50, fs=100, maximun_time=2.5, phi=0)\n",
        "class_2 = generate_data(a_range= [0, 5], f_range= [30, 80], sample= 50, fs=100, maximun_time=2.5, phi=0)\n",
        "\n",
        "erp = ERP(2.5)\n",
        "classes_data = erp.analyse([class_1, class_2])"
      ]
    },
    {
      "cell_type": "code",
      "execution_count": null,
      "metadata": {
        "colab": {
          "base_uri": "https://localhost:8080/"
        },
        "id": "xKVKR7BHvik0",
        "outputId": "567950a1-61fb-4962-92bd-52921c776b55"
      },
      "outputs": [
        {
          "data": {
            "text/plain": [
              "(2, 200)"
            ]
          },
          "execution_count": 11,
          "metadata": {},
          "output_type": "execute_result"
        }
      ],
      "source": [
        "np.shape(classes_data)"
      ]
    }
  ],
  "metadata": {
    "colab": {
      "provenance": []
    },
    "kernelspec": {
      "display_name": "Python 3",
      "language": "python",
      "name": "python3"
    },
    "language_info": {
      "name": "python",
      "version": "3.9.5 (tags/v3.9.5:0a7dcbd, May  3 2021, 17:27:52) [MSC v.1928 64 bit (AMD64)]"
    },
    "vscode": {
      "interpreter": {
        "hash": "2e3b6b0b99173f9265a096c919266c1e062fa40aa56c24545495bcfe878eb41d"
      }
    }
  },
  "nbformat": 4,
  "nbformat_minor": 0
}
